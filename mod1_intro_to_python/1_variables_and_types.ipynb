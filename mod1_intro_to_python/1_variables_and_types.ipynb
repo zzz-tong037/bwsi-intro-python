{
 "cells": [
  {
   "cell_type": "markdown",
   "metadata": {},
   "source": [
    "# Introduction to Python: Variables and Data Types"
   ]
  },
  {
   "cell_type": "markdown",
   "metadata": {},
   "source": [
    "### Python Math\n",
    "Let's start with some basics: run the following cells to see what they output\n",
    "\n",
    "Note: a full list of operators supported in python can be found [here](https://www.tutorialspoint.com/python/python_basic_operators.htm)"
   ]
  },
  {
   "cell_type": "code",
   "execution_count": null,
   "metadata": {},
   "outputs": [
    {
     "data": {
      "text/plain": [
       "3"
      ]
     },
     "execution_count": 1,
     "metadata": {},
     "output_type": "execute_result"
    }
   ],
   "source": [
    "2 + 1klmk"
   ]
  },
  {
   "cell_type": "code",
   "execution_count": 2,
   "metadata": {},
   "outputs": [
    {
     "data": {
      "text/plain": [
       "11"
      ]
     },
     "execution_count": 2,
     "metadata": {},
     "output_type": "execute_result"
    }
   ],
   "source": [
    "36 - (4 + 1)**2"
   ]
  },
  {
   "cell_type": "markdown",
   "metadata": {},
   "source": [
    "The outputs so far are all **integers** because they are round, whole numbers. \n",
    "\n",
    "What happens when run the previous cell with a decimal?"
   ]
  },
  {
   "cell_type": "code",
   "execution_count": 3,
   "metadata": {},
   "outputs": [
    {
     "data": {
      "text/plain": [
       "11.0"
      ]
     },
     "execution_count": 3,
     "metadata": {},
     "output_type": "execute_result"
    }
   ],
   "source": [
    "36 - (4.0 + 1)**2"
   ]
  },
  {
   "cell_type": "markdown",
   "metadata": {},
   "source": [
    "We get the same answer numerically, but instead of an integer the resulting data type is called a **float**. \n",
    "\n",
    "This is the Pythonic name for a decimal value."
   ]
  },
  {
   "cell_type": "markdown",
   "metadata": {},
   "source": [
    "### Creating a Variable in Python\n"
   ]
  },
  {
   "cell_type": "code",
   "execution_count": 4,
   "metadata": {},
   "outputs": [],
   "source": [
    "a = 1"
   ]
  },
  {
   "cell_type": "code",
   "execution_count": 5,
   "metadata": {},
   "outputs": [
    {
     "name": "stdout",
     "output_type": "stream",
     "text": [
      "1\n"
     ]
    }
   ],
   "source": [
    "print(a)"
   ]
  },
  {
   "cell_type": "code",
   "execution_count": 6,
   "metadata": {},
   "outputs": [
    {
     "data": {
      "text/plain": [
       "2"
      ]
     },
     "execution_count": 6,
     "metadata": {},
     "output_type": "execute_result"
    }
   ],
   "source": [
    "a + 1"
   ]
  },
  {
   "cell_type": "markdown",
   "metadata": {},
   "source": [
    "Note that `a = 1` still."
   ]
  },
  {
   "cell_type": "code",
   "execution_count": 7,
   "metadata": {},
   "outputs": [
    {
     "name": "stdout",
     "output_type": "stream",
     "text": [
      "1\n"
     ]
    }
   ],
   "source": [
    "print(a)"
   ]
  },
  {
   "cell_type": "markdown",
   "metadata": {},
   "source": [
    "What happens to `a` when we assign `a = a + 2`?"
   ]
  },
  {
   "cell_type": "code",
   "execution_count": 8,
   "metadata": {},
   "outputs": [
    {
     "name": "stdout",
     "output_type": "stream",
     "text": [
      "3\n"
     ]
    }
   ],
   "source": [
    "a = a + 2\n",
    "print(a)"
   ]
  },
  {
   "cell_type": "markdown",
   "metadata": {},
   "source": [
    "Now we have overwritten the previous value of a with a new value!"
   ]
  },
  {
   "cell_type": "markdown",
   "metadata": {},
   "source": [
    "#### Beware: Python is case sensitive"
   ]
  },
  {
   "cell_type": "code",
   "execution_count": 9,
   "metadata": {},
   "outputs": [
    {
     "name": "stdout",
     "output_type": "stream",
     "text": [
      "20 10\n"
     ]
    }
   ],
   "source": [
    "N = 20\n",
    "n = 10\n",
    "print(N, n)"
   ]
  },
  {
   "cell_type": "markdown",
   "metadata": {},
   "source": [
    "#### Best practice: \n",
    "- Make your variable names descriptive! This will be very important later as our scripts get more complex\n",
    "- Python convention is that variables are lower case and long variable names are separated by underscore (for example: `my_variable_name`)"
   ]
  },
  {
   "cell_type": "markdown",
   "metadata": {},
   "source": [
    "### Data Types in Python\n",
    "\n",
    "- **Numeric types:** integer, float\n",
    "- **Text:** string\n",
    "- **Collection of values:** list, array, tuple, dictionary\n",
    "- **Logical:** boolean (pronounced boo-lee-uhn)"
   ]
  },
  {
   "cell_type": "code",
   "execution_count": 10,
   "metadata": {},
   "outputs": [],
   "source": [
    "list_of_ones = [int(\"1\"), 1.0,  1, \"1.0\", (\"first\", 1), {\"one\": 1}, bool(1)]"
   ]
  },
  {
   "cell_type": "markdown",
   "metadata": {},
   "source": [
    "Try to guess the output types before running the cell below:"
   ]
  },
  {
   "cell_type": "code",
   "execution_count": 11,
   "metadata": {},
   "outputs": [
    {
     "name": "stdout",
     "output_type": "stream",
     "text": [
      "<class 'int'>\n",
      "<class 'float'>\n",
      "<class 'int'>\n",
      "<class 'str'>\n",
      "<class 'tuple'>\n",
      "<class 'dict'>\n",
      "<class 'bool'>\n"
     ]
    }
   ],
   "source": [
    "for value in list_of_ones:\n",
    "    print(type(value))"
   ]
  },
  {
   "cell_type": "markdown",
   "metadata": {},
   "source": [
    "## Part 2: Indexing Variables\n",
    "\n",
    "Lists are defined with square brackets and delineated by commas. \n",
    "\n",
    "They are distinct from another data type called **tuples** which are denoted by ( ) and are immutable (meaning they cannot be changed) once created. \n",
    "\n",
    "Lastly, there is a third data type called **dictionaries** which are denoted by { } and are mutable, but they are structured differently (more on this in a moment)!\n",
    " \n",
    "Let's learn how to index lists (and variables in general):"
   ]
  },
  {
   "cell_type": "code",
   "execution_count": 12,
   "metadata": {},
   "outputs": [],
   "source": [
    "squares_list = [1, 4, 9, 16, 25, 36, 49, 64, 81, 100]"
   ]
  },
  {
   "cell_type": "markdown",
   "metadata": {},
   "source": [
    "To access the list, we'll put brackets after the variable name. Let's try to get the first element in the list:"
   ]
  },
  {
   "cell_type": "code",
   "execution_count": 13,
   "metadata": {},
   "outputs": [
    {
     "data": {
      "text/plain": [
       "4"
      ]
     },
     "execution_count": 13,
     "metadata": {},
     "output_type": "execute_result"
    }
   ],
   "source": [
    "squares_list[1]"
   ]
  },
  {
   "cell_type": "markdown",
   "metadata": {},
   "source": [
    "This is probably not what you were expecting. This is because in Python, the index starts at 0. So if we try this:"
   ]
  },
  {
   "cell_type": "code",
   "execution_count": 14,
   "metadata": {},
   "outputs": [
    {
     "data": {
      "text/plain": [
       "1"
      ]
     },
     "execution_count": 14,
     "metadata": {},
     "output_type": "execute_result"
    }
   ],
   "source": [
    "squares_list[0]"
   ]
  },
  {
   "cell_type": "markdown",
   "metadata": {},
   "source": [
    "We'll get the \"0th\" element of the list. Now that we know this, we can get any element we like. Try to guess what this will output:"
   ]
  },
  {
   "cell_type": "code",
   "execution_count": 15,
   "metadata": {},
   "outputs": [
    {
     "data": {
      "text/plain": [
       "25"
      ]
     },
     "execution_count": 15,
     "metadata": {},
     "output_type": "execute_result"
    }
   ],
   "source": [
    "squares_list[4]"
   ]
  },
  {
   "cell_type": "markdown",
   "metadata": {},
   "source": [
    "If we put in a number that's too large, Python will throw this error message:"
   ]
  },
  {
   "cell_type": "code",
   "execution_count": 16,
   "metadata": {},
   "outputs": [
    {
     "ename": "IndexError",
     "evalue": "list index out of range",
     "output_type": "error",
     "traceback": [
      "\u001b[0;31m---------------------------------------------------------------------------\u001b[0m",
      "\u001b[0;31mIndexError\u001b[0m                                Traceback (most recent call last)",
      "Cell \u001b[0;32mIn[16], line 1\u001b[0m\n\u001b[0;32m----> 1\u001b[0m squares_list[\u001b[38;5;241m10\u001b[39m]\n",
      "\u001b[0;31mIndexError\u001b[0m: list index out of range"
     ]
    }
   ],
   "source": [
    "squares_list[10]"
   ]
  },
  {
   "cell_type": "markdown",
   "metadata": {},
   "source": [
    "Now that we know how to access any element, let's try some more advanced stuff. To count from the back of the list, you can put negative numbers in the brackets:"
   ]
  },
  {
   "cell_type": "code",
   "execution_count": null,
   "metadata": {},
   "outputs": [],
   "source": [
    "print(squares_list[-1])\n",
    "print(squares_list[-3])"
   ]
  },
  {
   "cell_type": "markdown",
   "metadata": {},
   "source": [
    "We can also access slices of the list. If we type a number, a colon, and then a second number, Python will make a list from between the two numbers:"
   ]
  },
  {
   "cell_type": "code",
   "execution_count": null,
   "metadata": {},
   "outputs": [],
   "source": [
    "squares_list[1:4]\n",
    "#Note that this includes index one but doesn't include index four"
   ]
  },
  {
   "cell_type": "markdown",
   "metadata": {},
   "source": [
    "Lastly, we can change the 'step' of the slice. If we use a second colon, the number after it will give the 'step length':"
   ]
  },
  {
   "cell_type": "code",
   "execution_count": null,
   "metadata": {},
   "outputs": [],
   "source": [
    "squares_list[1:10:2]"
   ]
  },
  {
   "cell_type": "markdown",
   "metadata": {},
   "source": [
    "You can even use indexing to reverse a list!\n",
    "\n",
    "(Note: You can also use the `reverse` built-in)"
   ]
  },
  {
   "cell_type": "code",
   "execution_count": null,
   "metadata": {},
   "outputs": [],
   "source": [
    "squares_list[::-1]"
   ]
  },
  {
   "cell_type": "markdown",
   "metadata": {},
   "source": [
    "Great! Now we know how to index a list."
   ]
  },
  {
   "cell_type": "markdown",
   "metadata": {},
   "source": [
    "While they share similarities in indexing syntax, there are two key differences between strings and lists that we'll discuss in this module: \n",
    "\n",
    "1. Strings can only have characters––letters, numbers, and punctuation––whereas lists can have any data type\n",
    "2. Lists and strings have different built-in fuctions\n",
    "\n",
    "For now, we'll start by discussing strings, dictionaries, and tuples.\n",
    "\n",
    "**Note**: strings and tuples are indexed exactly the same as lists, whereas dictionaries map keys to specific values."
   ]
  },
  {
   "cell_type": "code",
   "execution_count": null,
   "metadata": {},
   "outputs": [],
   "source": [
    "my_string = \"I love Python!\"\n",
    "my_tuple = (\"I\", \" \", \"love\", \" \", \"Python\", \"!\")\n",
    "my_dict = {\"me\": \"I love Python!\", \"you\": \"I don't know Python!\"}"
   ]
  },
  {
   "cell_type": "markdown",
   "metadata": {},
   "source": [
    "Tuples are immutable, meaning they cannot be modified once created. Dictionaries *can* be modified after assignment."
   ]
  },
  {
   "cell_type": "code",
   "execution_count": null,
   "metadata": {},
   "outputs": [],
   "source": [
    "# The following code runs as expected\n",
    "my_dict[\"you\"] = \"I love Python!\"\n",
    "my_dict\n"
   ]
  },
  {
   "cell_type": "code",
   "execution_count": null,
   "metadata": {},
   "outputs": [],
   "source": [
    "# The following code produces an error\n",
    "my_tuple[0] = \"me\""
   ]
  },
  {
   "cell_type": "markdown",
   "metadata": {},
   "source": [
    "Another thing to note: the following lines of code produce different variable types"
   ]
  },
  {
   "cell_type": "code",
   "execution_count": null,
   "metadata": {},
   "outputs": [],
   "source": [
    "test_int = (1)\n",
    "test_tuple = (1, )\n",
    "test_list = [1]\n",
    "test_dict = {1: ' '}\n",
    "for test in [test_int, test_tuple, test_list, test_dict]:\n",
    "    print(type(test))"
   ]
  },
  {
   "cell_type": "markdown",
   "metadata": {},
   "source": [
    "Back to indexing! "
   ]
  },
  {
   "cell_type": "code",
   "execution_count": null,
   "metadata": {},
   "outputs": [],
   "source": [
    "# Index the elements at indices 0-5\n",
    "print(my_string[0:6])\n",
    "\n",
    "# Store the value at index 4 as a variable called python\n",
    "python_string = my_tuple[4]\n",
    "print(python_string)\n",
    "\n",
    "# The following two lines of code are equivalent\n",
    "print(python_string[0]) \n",
    "print(my_tuple[4][0])"
   ]
  },
  {
   "cell_type": "markdown",
   "metadata": {},
   "source": [
    "In the first example, we sliced the 0th through the 5th index.\n",
    "\n",
    "In the second example, we assigned a variable called `python_string` to the 5th element of the tuple. When we print it, we see that it is the 5th element as expected. Since `python_string` is a string, it can be indexed again, and we can access the 0th element.\n",
    "\n",
    "Lastly, notice the bit of syntax in which two sets of brackets are placed. This is an efficient way to access something within a list or a tuple. "
   ]
  },
  {
   "cell_type": "markdown",
   "metadata": {},
   "source": [
    "For a more advanced example, let's look at an example of what a database of customers might look like. Below are two examples of how we could represent this in Python:"
   ]
  },
  {
   "cell_type": "code",
   "execution_count": null,
   "metadata": {},
   "outputs": [],
   "source": [
    "customers_list = [('Dave',47,'Member'),('Gwendolyn',32,'Nonmember'),('Anne',23,'Member')]\n",
    "customers_dict = {'Dave':(47,'Member'),'Gwendolyn': (32,'Nonmember'),'Anne':(23,'Member')}"
   ]
  },
  {
   "cell_type": "markdown",
   "metadata": {},
   "source": [
    "The `customers_list` variable is a list of tuples which have both strings and an integer, **accessed by position (i.e. index)**\n",
    "\n",
    "The `customers_dict` variable is a dictionary of tuples which have both strings and an integer, **accessed by name (i.e. key)**\n",
    "\n",
    "We can use what we've learned about indexing to access different customers in our list:"
   ]
  },
  {
   "cell_type": "code",
   "execution_count": null,
   "metadata": {},
   "outputs": [],
   "source": [
    "# We can access individual customers:\n",
    "print('Customer at index two:')\n",
    "print(customers_list[2])\n",
    "\n",
    "# Or just their age:\n",
    "print('Age of customer at index two:')\n",
    "print(customers_list[2][1])\n",
    "\n",
    "# Or the first letter of their name\n",
    "print('First letter of name of customer at index two:')\n",
    "print(customers_list[2][0][0])"
   ]
  },
  {
   "cell_type": "markdown",
   "metadata": {},
   "source": [
    "Notice that we can access the same information from our dictionary with different syntax:"
   ]
  },
  {
   "cell_type": "code",
   "execution_count": null,
   "metadata": {},
   "outputs": [],
   "source": [
    "# We can access individual customers:\n",
    "customer_name = \"Anne\"\n",
    "print(f\"{customer_name}'s information:\")\n",
    "print(customers_dict[customer_name])\n",
    "\n",
    "# Or just their age:\n",
    "print(f\"{customer_name}'s age:\")\n",
    "print(customers_dict[customer_name][0])\n",
    "\n",
    "# Or the first letter of their name\n",
    "print(f\"First letter of {customer_name}'s name:\")\n",
    "print(customer_name[0])"
   ]
  }
 ],
 "metadata": {
  "kernelspec": {
   "display_name": "base",
   "language": "python",
   "name": "python3"
  },
  "language_info": {
   "codemirror_mode": {
    "name": "ipython",
    "version": 3
   },
   "file_extension": ".py",
   "mimetype": "text/x-python",
   "name": "python",
   "nbconvert_exporter": "python",
   "pygments_lexer": "ipython3",
   "version": "3.12.8"
  }
 },
 "nbformat": 4,
 "nbformat_minor": 2
}
